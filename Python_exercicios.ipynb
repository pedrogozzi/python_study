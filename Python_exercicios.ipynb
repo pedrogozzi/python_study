{
  "nbformat": 4,
  "nbformat_minor": 0,
  "metadata": {
    "colab": {
      "provenance": [],
      "collapsed_sections": [],
      "authorship_tag": "ABX9TyONpaPR8xlMyws3HZ2O1JXM",
      "include_colab_link": true
    },
    "kernelspec": {
      "name": "python3",
      "display_name": "Python 3"
    },
    "language_info": {
      "name": "python"
    }
  },
  "cells": [
    {
      "cell_type": "markdown",
      "metadata": {
        "id": "view-in-github",
        "colab_type": "text"
      },
      "source": [
        "<a href=\"https://colab.research.google.com/github/pedrogozzi/python_study/blob/main/Python_exercicios.ipynb\" target=\"_parent\"><img src=\"https://colab.research.google.com/assets/colab-badge.svg\" alt=\"Open In Colab\"/></a>"
      ]
    },
    {
      "cell_type": "code",
      "execution_count": null,
      "metadata": {
        "colab": {
          "base_uri": "https://localhost:8080/"
        },
        "id": "EOnxW084cowe",
        "outputId": "2b2c1ba4-859b-4906-9d48-e7254a56af25"
      },
      "outputs": [
        {
          "output_type": "stream",
          "name": "stdout",
          "text": [
            "Digite um valor: 3.15\n",
            "O valor digitado foi 3.15 e sua porção inteira é 3.\n"
          ]
        }
      ],
      "source": [
        "import math\n",
        "num=float(input('Digite um valor: '))\n",
        "print('O valor digitado foi {} e sua porção inteira é {}.'.format(num,math.trunc(num)))"
      ]
    },
    {
      "cell_type": "markdown",
      "source": [],
      "metadata": {
        "id": "Fz4BMHc-dFA_"
      }
    },
    {
      "cell_type": "code",
      "source": [],
      "metadata": {
        "id": "_FKUppcS1_5S"
      },
      "execution_count": null,
      "outputs": []
    },
    {
      "cell_type": "code",
      "source": [],
      "metadata": {
        "id": "k1FZvS6vgpCw"
      },
      "execution_count": null,
      "outputs": []
    },
    {
      "cell_type": "code",
      "source": [
        "from math import trunc\n",
        "num=float(input('Digite um número: '))\n",
        "print('O valor digitado foi {} e sua porção inteiraa é {}'.format(num,trunc(num)))"
      ],
      "metadata": {
        "colab": {
          "base_uri": "https://localhost:8080/"
        },
        "id": "ny5mSz5yif4h",
        "outputId": "2261c64b-0991-4abd-bea3-a652ca17e22f"
      },
      "execution_count": null,
      "outputs": [
        {
          "output_type": "stream",
          "name": "stdout",
          "text": [
            "Digite um número: 3.15\n",
            "O valor digitado foi 3.15 e sua porção inteiraa é 3\n"
          ]
        }
      ]
    },
    {
      "cell_type": "code",
      "source": [
        "a=float(input('Cateto a é igual a '))\n",
        "b=float(input('Cateto b é igual a '))\n",
        "c=((a**2)+(b**2))**(1/2)\n",
        "print(c)"
      ],
      "metadata": {
        "colab": {
          "base_uri": "https://localhost:8080/"
        },
        "id": "gP-sFWCOipfx",
        "outputId": "0cd6ae4c-2676-4c0f-ae29-1a9af0ab7fcf"
      },
      "execution_count": null,
      "outputs": [
        {
          "output_type": "stream",
          "name": "stdout",
          "text": [
            "Cateto a é igual a 3\n",
            "Cateto b é igual a 4\n",
            "5.0\n"
          ]
        }
      ]
    },
    {
      "cell_type": "code",
      "source": [
        "import math\n",
        "a=float(input('Cateto a é igual a '))\n",
        "b=float(input('Cateto b é igual a '))\n",
        "c=math.hypot(a,b)\n",
        "print('A hipo é {}'.format(c))"
      ],
      "metadata": {
        "colab": {
          "base_uri": "https://localhost:8080/"
        },
        "id": "aPplmSt-oBdz",
        "outputId": "99c8ee2f-b837-4520-d74b-aad4b19a52d0"
      },
      "execution_count": null,
      "outputs": [
        {
          "output_type": "stream",
          "name": "stdout",
          "text": [
            "Cateto a é igual a 3\n",
            "Cateto b é igual a 4\n",
            "A hipo é 5.0\n"
          ]
        }
      ]
    },
    {
      "cell_type": "code",
      "source": [
        "import math #from math import radians, sin, cos, tan\n",
        "angulo=float(input('Digite o ângulo: '))\n",
        "seno=math.sin(math.radians(angulo))\n",
        "print('O ângulo de {} tem o SENO de {:.2f}'.format(angulo,seno))\n",
        "cosseno=math.cos(math.radians(angulo))\n",
        "print('O ângulo de {} tem o cosseno de {:.2f}'.format(angulo,cosseno))\n",
        "tangente=math.tan(math.radians(angulo))\n",
        "print('O ângulo de {} tem a tangente de {:.2f}'.format(angulo,tangente))"
      ],
      "metadata": {
        "colab": {
          "base_uri": "https://localhost:8080/"
        },
        "id": "sQ9xshymrE_g",
        "outputId": "68f8790c-c479-4c3e-e328-0a6510f15f2b"
      },
      "execution_count": null,
      "outputs": [
        {
          "output_type": "stream",
          "name": "stdout",
          "text": [
            "Digite o ângulo: 30\n",
            "O ângulo de 30.0 tem o SENO de 0.50\n",
            "O ângulo de 30.0 tem o cosseno de 0.87\n",
            "O ângulo de 30.0 tem a tangente de 0.58\n"
          ]
        }
      ]
    },
    {
      "cell_type": "code",
      "source": [
        "import random\n",
        "n1=str(input('Primeiro aluno: '))\n",
        "n2=str(input('Segundo aluno: '))\n",
        "n3=str(input('Terceiro aluno: '))\n",
        "n4=str(input('Quarto aluno: '))\n",
        "lista = [n1,n2,n3,n4]\n",
        "escolhido = random.choice(lista)\n",
        "print('O aluno escolhido foi {}'.format(escolhido))"
      ],
      "metadata": {
        "colab": {
          "base_uri": "https://localhost:8080/"
        },
        "id": "vh1QSey9spqz",
        "outputId": "512996d2-f52c-4042-a1fe-97883ae2c301"
      },
      "execution_count": null,
      "outputs": [
        {
          "output_type": "stream",
          "name": "stdout",
          "text": [
            "Primeiro aluno: Joao\n",
            "Segundo aluno: fran\n",
            "Terceiro aluno: bi\n",
            "Quarto aluno: tri\n",
            "O aluno escolhido foi tri\n"
          ]
        }
      ]
    },
    {
      "cell_type": "code",
      "source": [
        "import random\n",
        "n1=str(input('Primeiro aluno: '))\n",
        "n2=str(input('Segundo aluno: '))\n",
        "n3=str(input('Terceiro aluno: '))\n",
        "n4=str(input('Quarto aluno: '))\n",
        "lista = [n1,n2,n3,n4]\n",
        "random.shuffle(lista)\n",
        "print('A ordem de apresentação será:')\n",
        "print(lista)"
      ],
      "metadata": {
        "colab": {
          "base_uri": "https://localhost:8080/"
        },
        "id": "U6VWYPbAuBeH",
        "outputId": "b7db1be9-17b1-4487-af61-19c5a1afd102"
      },
      "execution_count": null,
      "outputs": [
        {
          "output_type": "stream",
          "name": "stdout",
          "text": [
            "Primeiro aluno: a\n",
            "Segundo aluno: b\n",
            "Terceiro aluno: c.\n",
            "Quarto aluno: d\n",
            "A ordem de apresentação será:\n",
            "['d', 'a', 'c.', 'b']\n"
          ]
        }
      ]
    },
    {
      "cell_type": "markdown",
      "source": [
        "Análise \n",
        "frase.len - mostra quantas letras tem \n",
        "frase.count('o') - mostra quantos \"o\" tem na frase\n"
      ],
      "metadata": {
        "id": "i5oqcXu220J2"
      }
    },
    {
      "cell_type": "code",
      "source": [
        "frase=(\"Curso em Vídeo Python\")\n",
        "frase.lower\n",
        "print(frase)"
      ],
      "metadata": {
        "colab": {
          "base_uri": "https://localhost:8080/"
        },
        "id": "oBO17hU-3OwU",
        "outputId": "0ef7f6d8-b799-45f1-9b1f-e6b1be4119ca"
      },
      "execution_count": null,
      "outputs": [
        {
          "output_type": "stream",
          "name": "stdout",
          "text": [
            "Curso em Vídeo Python\n"
          ]
        }
      ]
    },
    {
      "cell_type": "code",
      "source": [
        "frase=\"Curso em Vídeo Python\"\n",
        "print(frase[::2])"
      ],
      "metadata": {
        "colab": {
          "base_uri": "https://localhost:8080/"
        },
        "id": "1pFFGuDhYXTv",
        "outputId": "128d2ed3-b323-491a-ef87-e204f1362a6e"
      },
      "execution_count": null,
      "outputs": [
        {
          "output_type": "stream",
          "name": "stdout",
          "text": [
            "Croe íe yhn\n"
          ]
        }
      ]
    },
    {
      "cell_type": "markdown",
      "source": [
        "Strings "
      ],
      "metadata": {
        "id": "EkF7geSDhwI6"
      }
    },
    {
      "cell_type": "code",
      "source": [
        "nome=str(input('Digite seu nome completo: ')).strip()\n",
        "print('Analisando seu nome...')\n",
        "print('Seu nome em maiúsculas é {}'.format(nome.upper()))\n",
        "print('Seu nome em minúsculas é {}'.format(nome.lower()))\n",
        "print('Seu nome tem {} letras'.format(len(nome)-nome.count(' ')))\n",
        "print('Seu primeiro nome tem {} letras'.format(nome.find(' ')))"
      ],
      "metadata": {
        "colab": {
          "base_uri": "https://localhost:8080/"
        },
        "id": "m5xAf6_UgquH",
        "outputId": "b0069a14-dc6b-4af2-b63a-72d64a8474ac"
      },
      "execution_count": null,
      "outputs": [
        {
          "output_type": "stream",
          "name": "stdout",
          "text": [
            "Digite seu nome completo:   Pedro Gozzi\n",
            "Analisando seu nome...\n",
            "Seu nome em maiúsculas é PEDRO GOZZI\n",
            "Seu nome em minúsculas é pedro gozzi\n",
            "Seu nome tem 10 letras\n",
            "Seu primeiro nome tem 5 letras\n"
          ]
        }
      ]
    },
    {
      "cell_type": "markdown",
      "source": [],
      "metadata": {
        "id": "22Gmpmjqgra5"
      }
    },
    {
      "cell_type": "code",
      "source": [
        "num=int(input('Informe um numero: '))\n",
        "n=str(num)\n",
        "print('Analisando o numero {}'.format(num))\n",
        "print('Unidade:{}'.format(n[3]))\n",
        "print('Dezena:{}'.format(n[2]))\n",
        "print('centena:{}'.format(n[1]))\n",
        "print('milhar: {}'.format(n[0]))"
      ],
      "metadata": {
        "colab": {
          "base_uri": "https://localhost:8080/"
        },
        "id": "H7F71iEHgpoj",
        "outputId": "57b5332b-d96f-47a1-ec59-b0a9bb986367"
      },
      "execution_count": null,
      "outputs": [
        {
          "output_type": "stream",
          "name": "stdout",
          "text": [
            "Informe um numero: 1234\n",
            "Analisando o numero 1234\n",
            "Unidade:4\n",
            "Dezena:3\n",
            "centena:2\n",
            "milhar: 1\n"
          ]
        }
      ]
    },
    {
      "cell_type": "code",
      "source": [
        "cid=str(input('Em qual cidade você nasceu? ')).strip()\n",
        "print(cid[:5].upper() == 'SANTO')"
      ],
      "metadata": {
        "colab": {
          "base_uri": "https://localhost:8080/"
        },
        "id": "gzZd1V1yi5rj",
        "outputId": "b2943867-ee50-40cd-bfc5-a33c40de7caa"
      },
      "execution_count": null,
      "outputs": [
        {
          "output_type": "stream",
          "name": "stdout",
          "text": [
            "Em qual cidade você nasceu? San\n",
            "False\n"
          ]
        }
      ]
    },
    {
      "cell_type": "code",
      "source": [
        "nome=str(input('Qual seu nome completo? ')).strip()\n",
        "print('Seu nome tem silva?{}'.format('silva' in nome.lower()))"
      ],
      "metadata": {
        "colab": {
          "base_uri": "https://localhost:8080/"
        },
        "id": "PE7TVR6ilHwu",
        "outputId": "04e2c71d-0aec-4db0-dd85-74d744b02588"
      },
      "execution_count": null,
      "outputs": [
        {
          "output_type": "stream",
          "name": "stdout",
          "text": [
            "Qual seu nome completo? Joâo da Silva\n",
            "Seu nome tem silva?True\n"
          ]
        }
      ]
    },
    {
      "cell_type": "code",
      "source": [
        "frase = str(input('Digite uma frase: ')).upper()\n",
        "letra = str(input('Digite uma letra: ')).upper()\n",
        "print('A letra '+letra+' aparece {} vezes na frase '.format(frase.count(letra)))\n",
        "print('A primeira letra '+letra+' aparece na posição {}'.format(frase.find(letra)+1))\n",
        "print('A última letra '+letra+' aparece na posição {}'.format(frase.rfind(letra)+1))"
      ],
      "metadata": {
        "id": "lvc-8Jhhoku7"
      },
      "execution_count": null,
      "outputs": []
    },
    {
      "cell_type": "code",
      "source": [
        "n = str(input('Digite seu nome completo: ')).strip()\n",
        "nome = n.split()\n",
        "print('Muito prazer em te conhecer!')\n",
        "print('Seu primeiro nome é {}'.format(nome[0]))\n",
        "print('Seu primeiro nome é {}'.format(nome[len(nome)-1]))\n"
      ],
      "metadata": {
        "id": "ALhYB3q0qmAK"
      },
      "execution_count": null,
      "outputs": []
    },
    {
      "cell_type": "code",
      "source": [
        "def my_function(fname):\n",
        "  print(fname + \" Refsnes\")\n",
        "\n",
        "my_function(\"Emil\")\n",
        "my_function(\"Tobias\")\n",
        "my_function(\"Linus\")\n",
        "my_function('Teste')"
      ],
      "metadata": {
        "colab": {
          "base_uri": "https://localhost:8080/"
        },
        "id": "53afpCK7j9Ln",
        "outputId": "9a363c36-64d9-49ab-9f0e-843039db1bf4"
      },
      "execution_count": null,
      "outputs": [
        {
          "output_type": "stream",
          "name": "stdout",
          "text": [
            "Emil Refsnes\n",
            "Tobias Refsnes\n",
            "Linus Refsnes\n",
            "Teste Refsnes\n"
          ]
        }
      ]
    },
    {
      "cell_type": "code",
      "source": [
        "#Exercício 032 - Ano bissexto\n",
        "ano=int(input('Que ano quer analisar ? '))\n",
        "if ano % 4 == 0 and ano % 100 != 0 or ano % 400 == 0:\n",
        "  print('Ano é Bissexto')\n",
        "else:\n",
        "  print('O ano não é Bissexto')"
      ],
      "metadata": {
        "colab": {
          "base_uri": "https://localhost:8080/"
        },
        "id": "KQTo7jRZ2BtI",
        "outputId": "320f261c-99bf-4bc1-94da-bb4df3604f90"
      },
      "execution_count": null,
      "outputs": [
        {
          "output_type": "stream",
          "name": "stdout",
          "text": [
            "Que ano quer analisar ? 2000\n",
            "Ano é Bissexto\n"
          ]
        }
      ]
    },
    {
      "cell_type": "code",
      "source": [
        "#Exercício 032 - Ano bissexto\n",
        "from datetime import date\n",
        "ano = int(input('Que ano quer analisar? Coloque 0 para analisar o ano atual: '))\n",
        "if ano == 0:\n",
        "  ano = date.today().year\n",
        "if ano % 4 == 0 and ano % 100 != 0 or ano % 400 == 0:\n",
        "  print('O ano {} é BISSEXTO'.format(ano))\n",
        "else:\n",
        "  print('O ano {} NÃO é BISSEXTO'.format(ano))"
      ],
      "metadata": {
        "colab": {
          "base_uri": "https://localhost:8080/"
        },
        "id": "h1FcOBVc3dpm",
        "outputId": "7ece1709-305f-4157-aa8b-5983e2032484"
      },
      "execution_count": null,
      "outputs": [
        {
          "output_type": "stream",
          "name": "stdout",
          "text": [
            "Que ano quer analisar? Coloque 0 para analisar o ano atual: 0\n",
            "O ano 2022 NÃO é BISSEXTO\n"
          ]
        }
      ]
    },
    {
      "cell_type": "code",
      "source": [
        "# Exercício 033 - Maior e menor valores \n",
        "v1 = int(input('Digite o primeiro valor :'))\n",
        "v2 = int(input('Digite o segundo valor :'))\n",
        "v3 = int(input('Digite o terceiro valor :'))\n",
        "menor = v1\n",
        "if v2 <v1 and v2 <v3:\n",
        "  menor = v2\n",
        "if v3 <v1 and v3 <v2:\n",
        "  menor = v3\n",
        "print (menor)"
      ],
      "metadata": {
        "colab": {
          "base_uri": "https://localhost:8080/"
        },
        "id": "Vt7qerxk5Wlz",
        "outputId": "71027329-cb7f-4687-afb5-5da53f7573c5"
      },
      "execution_count": null,
      "outputs": [
        {
          "output_type": "stream",
          "name": "stdout",
          "text": [
            "Digite o primeiro valor :6\n",
            "Digite o segundo valor :7\n",
            "Digite o terceiro valor :5\n",
            "5\n"
          ]
        }
      ]
    },
    {
      "cell_type": "code",
      "source": [
        "# ex 036\n",
        "\n",
        "casa = float(input('Valor da casa: R$ '))\n",
        "salário = float (input('Salário do comprador: R$ '))\n",
        "anos = int ( input('Quantos anos de financiamento?'))\n",
        "prestação = casa/(anos*12)\n",
        "print ('R$ {:.2f}'.format(prestação))\n",
        "alocacao = prestação/salário*100\n",
        "print (float(alocacao))"
      ],
      "metadata": {
        "colab": {
          "base_uri": "https://localhost:8080/"
        },
        "id": "depjkhrmNsRn",
        "outputId": "6815e9a8-ddf9-4d5e-f8a9-9b37d1ee6517"
      },
      "execution_count": null,
      "outputs": [
        {
          "output_type": "stream",
          "name": "stdout",
          "text": [
            "Valor da casa: R$ 120000\n",
            "Salário do comprador: R$ 12000\n",
            "Quantos anos de financiamento?10\n",
            "R$ 1000.00\n",
            "8.333333333333332\n"
          ]
        }
      ]
    },
    {
      "cell_type": "markdown",
      "source": [
        "**Condições aninhadas **\n",
        "\n",
        "É basicamente uma coisa dentro da ontra. \n",
        "Estrutura condicional dentro de estrutura condicional \n",
        "\n"
      ],
      "metadata": {
        "id": "qIoV4Hh_dF9D"
      }
    },
    {
      "cell_type": "code",
      "source": [
        "nome = str(input('Qual é o seu nome? '))\n",
        "if nome == 'Pedro':\n",
        "  print ('Que nome bonito!')\n",
        "elif nome == 'João' or nome == 'Maria':\n",
        "  print ('Seu nome é normal no Brasil')\n",
        "elif nome in 'Ana Fabi Mari':\n",
        "  print ('Que nome feminino')\n",
        "else:\n",
        "  print ('Seu nome é normal!')\n",
        "print ('Tenha um bom dia, {}!'.format(nome))"
      ],
      "metadata": {
        "id": "0z7l-s5xdKbV",
        "colab": {
          "base_uri": "https://localhost:8080/"
        },
        "outputId": "5a96c327-4ea2-49b9-be98-c9934887fafc"
      },
      "execution_count": null,
      "outputs": [
        {
          "output_type": "stream",
          "name": "stdout",
          "text": [
            "Qual é o seu nome? Mari\n",
            "Que nome feminino\n",
            "Tenha um bom dia, Mari!\n"
          ]
        }
      ]
    },
    {
      "cell_type": "markdown",
      "source": [
        "`Ex036` - Programa de **financiamento**"
      ],
      "metadata": {
        "id": "I8ilr8oTA3xF"
      }
    },
    {
      "cell_type": "code",
      "source": [
        "imovel = int(input('Qual é o valor total do imóvel? '))\n",
        "renda = int(input('Qual sua renda mensal? '))\n",
        "finanos = int(input('Quantos anos é o financiamento? '))\n",
        "mensalidadecasa = imovel/(finanos*12)\n",
        "porcentrenda = mensalidadecasa/renda*100\n",
        "\n",
        "print ('O valor total do imóvel é R${:.2f} e financiando em {} anos o valor da mensalidade será de R${:.2f}.'.format(imovel,finanos,mensalidadecasa))\n",
        "print('A sua mensal é de R${:.2f}'.format(renda))\n",
        "print('Com essas informações, sabemos que você irá compromoter {:.2f}% da sua renda mensal'.format(porcentrenda))\n",
        "\n",
        "\n",
        "if porcentrenda <= 10:\n",
        "    print('Parabéns, financiamento aprovado')\n",
        "elif porcentrenda > 10:\n",
        "    print('Infelizmente seu financimento não está aprovado')"
      ],
      "metadata": {
        "id": "9nm4pOedA_Ew"
      },
      "execution_count": null,
      "outputs": []
    },
    {
      "cell_type": "markdown",
      "source": [
        "#ex037 \n",
        "\n",
        "---\n",
        "\n",
        "\n",
        "Escreva um programa em Python que leia um número inteiro qualquer e peça para o usuário escolher qual será a base de conversão: \n",
        "\n",
        "1 para binário    \n",
        "2 para octal  \n",
        "3 para hexadecimal  \n",
        "\n"
      ],
      "metadata": {
        "id": "7Z0ZOKBiBO1q"
      }
    },
    {
      "cell_type": "code",
      "source": [
        "num=int(input('Digite um número inteiro: '))\n",
        "\n",
        "print ('''Escolha para qual você quer converter: \n",
        "1 - Binário\n",
        "2 - Octal\n",
        "3 - Hexadecimal''')\n",
        "opção = int(input('Sua opção: '))\n",
        "if opção ==1:\n",
        "    print('{} convertido par BINÁrio é igual a {}'.format(num,bin(num)))\n",
        "elif opção == 2:\n",
        "    print('{} convertido para OCTAL é igual a {}'.format(num,oct(num)))\n",
        "elif opção ==3:\n",
        "    print('{} convertido para HEXADECIMAL é igual a {}'.format(num,hex(num)))\n",
        "else:\n",
        "    print('Opção inválida')\n"
      ],
      "metadata": {
        "id": "hax5HMs3BcMD",
        "colab": {
          "base_uri": "https://localhost:8080/"
        },
        "outputId": "2d685306-4ebe-4a27-cdf8-142436c85a23"
      },
      "execution_count": null,
      "outputs": [
        {
          "output_type": "stream",
          "name": "stdout",
          "text": [
            "Digite um número inteiro: 1\n",
            "Escolha para qual você quer converter: \n",
            "1 - Binário\n",
            "2 - Octal\n",
            "3 - Hexadecimal\n",
            "Sua opção: 1\n",
            "1 convertido par BINÁrio é igual a 0b1\n"
          ]
        }
      ]
    },
    {
      "cell_type": "markdown",
      "source": [
        "ex038 - Escreva dois numero e compare se é maior, menor ou igual"
      ],
      "metadata": {
        "id": "iKi3dLTABcyQ"
      }
    },
    {
      "cell_type": "code",
      "source": [
        "n1=int(input('Digite o primeiro número: '))\n",
        "n2=int(input('Digite o segundo número: '))\n",
        "if n1 > n2:\n",
        "  print('O número {} é maior que {}'.format(n1,n2))\n",
        "elif n2>n1:\n",
        "  print('O número {} é maior que {}'.format(n2,n1))\n",
        "else:\n",
        "  print('Os números são iguais!')"
      ],
      "metadata": {
        "id": "rexYvosyBijS",
        "colab": {
          "base_uri": "https://localhost:8080/"
        },
        "outputId": "7ca3ff34-7a6c-4983-bf5f-32b90304a7c9"
      },
      "execution_count": null,
      "outputs": [
        {
          "output_type": "stream",
          "name": "stdout",
          "text": [
            "Digite o primeiro número: 5\n",
            "Digite o segundo número: 5\n",
            "Os números são iguais!\n"
          ]
        }
      ]
    },
    {
      "cell_type": "markdown",
      "source": [
        "ex039 - Programa para que de acordo com idade, fale sobre o alistamento militar "
      ],
      "metadata": {
        "id": "lrQGZT37BizG"
      }
    },
    {
      "cell_type": "code",
      "source": [
        "datanascimento = int(input('Digite seu ano de nascimento: '))\n",
        "idade = 2022 - datanascimento\n",
        "print(idade)\n",
        "\n",
        "if idade > 18:\n",
        "  print('Você já está atrasado no alistamento, terá problemas')\n",
        "elif idade == 18:\n",
        "  print('Você está no ano do alistamento militar')\n",
        "else:\n",
        "  print('Aproveite, você ainda não precisa se alistar!')"
      ],
      "metadata": {
        "id": "xNd5U0D6B9yC"
      },
      "execution_count": null,
      "outputs": []
    },
    {
      "cell_type": "markdown",
      "source": [
        "ex040 - Programa para calcular média e aprovação"
      ],
      "metadata": {
        "id": "VSjJuqPKB-CR"
      }
    },
    {
      "cell_type": "code",
      "source": [
        "n1 = float(input('Qual foi sua nota na primeira prova? '))\n",
        "n2 = float(input('Qual foi sua nota na segunda prova? '))\n",
        "media = (n1+n2)/2\n",
        "print(media)\n",
        "\n",
        "if media >= 6:\n",
        "  print('Aprovado')\n",
        "elif media <6:\n",
        "  print('recuperação')\n",
        "else:\n",
        "  print('reprovado')\n"
      ],
      "metadata": {
        "id": "-oTAi9eBCDDB"
      },
      "execution_count": null,
      "outputs": []
    },
    {
      "cell_type": "markdown",
      "source": [
        "ex041\n",
        "Até 09 - mirim\n",
        "até 14 - infatil\n",
        "até 19 - junior\n",
        "até 20 - Senior\n",
        "Acima de 20 - master"
      ],
      "metadata": {
        "id": "QNsSZN5WCDK-"
      }
    },
    {
      "cell_type": "code",
      "source": [
        "from datetime import date\n",
        "atual=date.today().year\n",
        "nascimento = int(input('Qual ano de nascimento?'))\n",
        "idade = atual - nascimento\n",
        "if idade <= 9:\n",
        "    print('Mirin')\n",
        "elif idade <= 14:\n",
        "    print('Infantil')\n",
        "elif idade <= 19:\n",
        "    print('Junior')\n",
        "elif idade <= 20:\n",
        "    print('Master')\n",
        "else:\n",
        "    print('Senior')"
      ],
      "metadata": {
        "id": "8nP2vOBJCoRC"
      },
      "execution_count": null,
      "outputs": []
    },
    {
      "cell_type": "markdown",
      "source": [
        "042 - falar se o Triângulo é escaleno, equilatero, escaleno"
      ],
      "metadata": {
        "id": "0kjrThzECobm"
      }
    },
    {
      "cell_type": "code",
      "source": [
        "a = int(input('Digite o lado \"a\" do triângulo: '))\n",
        "b = int(input('Digite o lado \"b\" do triângulo: '))\n",
        "c = int(input('Digite o lado \"c\" do triângulo: '))\n",
        "\n",
        "if a+b>c and b+c>a and a+c>b:\n",
        "    print('É um triangulo ',end='')\n",
        "    if a==b==c:\n",
        "        print('equilátero')\n",
        "    if a != b !=c != a:\n",
        "        print('escaleno')\n",
        "    else:\n",
        "        print('isóceles')\n",
        "\n",
        "else:\n",
        "    print('Não é um triangulo')"
      ],
      "metadata": {
        "id": "XcIY0MPpDD3w"
      },
      "execution_count": null,
      "outputs": []
    },
    {
      "cell_type": "markdown",
      "source": [
        "Ex043 - Calculo do IMC"
      ],
      "metadata": {
        "id": "CbjTgzdwDEA9"
      }
    },
    {
      "cell_type": "code",
      "source": [],
      "metadata": {
        "id": "Wl0I7hYaDGrN"
      },
      "execution_count": null,
      "outputs": []
    },
    {
      "cell_type": "markdown",
      "source": [
        "ex044 - Preço financiamento - desc 10% a vista, a vista sem desc, 2x 10% de juros "
      ],
      "metadata": {
        "id": "4GU3TTE_DG3y"
      }
    },
    {
      "cell_type": "code",
      "source": [],
      "metadata": {
        "id": "_ysu1IRiD572"
      },
      "execution_count": null,
      "outputs": []
    },
    {
      "cell_type": "markdown",
      "source": [
        "ex045 - Jokenpô "
      ],
      "metadata": {
        "id": "CP_A8rZVD6E-"
      }
    }
  ]
}