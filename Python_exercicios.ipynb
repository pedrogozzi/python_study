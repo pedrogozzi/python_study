{
  "nbformat": 4,
  "nbformat_minor": 0,
  "metadata": {
    "colab": {
      "provenance": [],
      "collapsed_sections": [],
      "authorship_tag": "ABX9TyNb+YsvWIspaCZuLdD8Tzjt",
      "include_colab_link": true
    },
    "kernelspec": {
      "name": "python3",
      "display_name": "Python 3"
    },
    "language_info": {
      "name": "python"
    }
  },
  "cells": [
    {
      "cell_type": "markdown",
      "metadata": {
        "id": "view-in-github",
        "colab_type": "text"
      },
      "source": [
        "<a href=\"https://colab.research.google.com/github/pedrogozzi/python_study/blob/main/Python_exercicios.ipynb\" target=\"_parent\"><img src=\"https://colab.research.google.com/assets/colab-badge.svg\" alt=\"Open In Colab\"/></a>"
      ]
    },
    {
      "cell_type": "code",
      "execution_count": null,
      "metadata": {
        "colab": {
          "base_uri": "https://localhost:8080/"
        },
        "id": "EOnxW084cowe",
        "outputId": "2b2c1ba4-859b-4906-9d48-e7254a56af25"
      },
      "outputs": [
        {
          "output_type": "stream",
          "name": "stdout",
          "text": [
            "Digite um valor: 3.15\n",
            "O valor digitado foi 3.15 e sua porção inteira é 3.\n"
          ]
        }
      ],
      "source": [
        "import math\n",
        "num=float(input('Digite um valor: '))\n",
        "print('O valor digitado foi {} e sua porção inteira é {}.'.format(num,math.trunc(num)))"
      ]
    },
    {
      "cell_type": "code",
      "source": [],
      "metadata": {
        "id": "k1FZvS6vgpCw"
      },
      "execution_count": null,
      "outputs": []
    },
    {
      "cell_type": "code",
      "source": [
        "from math import trunc\n",
        "num=float(input('Digite um número: '))\n",
        "print('O valor digitado foi {} e sua porção inteiraa é {}'.format(num,trunc(num)))"
      ],
      "metadata": {
        "colab": {
          "base_uri": "https://localhost:8080/"
        },
        "id": "ny5mSz5yif4h",
        "outputId": "2261c64b-0991-4abd-bea3-a652ca17e22f"
      },
      "execution_count": null,
      "outputs": [
        {
          "output_type": "stream",
          "name": "stdout",
          "text": [
            "Digite um número: 3.15\n",
            "O valor digitado foi 3.15 e sua porção inteiraa é 3\n"
          ]
        }
      ]
    },
    {
      "cell_type": "code",
      "source": [
        "a=float(input('Cateto a é igual a '))\n",
        "b=float(input('Cateto b é igual a '))\n",
        "c=((a**2)+(b**2))**(1/2)\n",
        "print(c)"
      ],
      "metadata": {
        "colab": {
          "base_uri": "https://localhost:8080/"
        },
        "id": "gP-sFWCOipfx",
        "outputId": "0cd6ae4c-2676-4c0f-ae29-1a9af0ab7fcf"
      },
      "execution_count": null,
      "outputs": [
        {
          "output_type": "stream",
          "name": "stdout",
          "text": [
            "Cateto a é igual a 3\n",
            "Cateto b é igual a 4\n",
            "5.0\n"
          ]
        }
      ]
    },
    {
      "cell_type": "code",
      "source": [
        "import math\n",
        "a=float(input('Cateto a é igual a '))\n",
        "b=float(input('Cateto b é igual a '))\n",
        "c=math.hypot(a,b)\n",
        "print('A hipo é {}'.format(c))"
      ],
      "metadata": {
        "colab": {
          "base_uri": "https://localhost:8080/"
        },
        "id": "aPplmSt-oBdz",
        "outputId": "99c8ee2f-b837-4520-d74b-aad4b19a52d0"
      },
      "execution_count": null,
      "outputs": [
        {
          "output_type": "stream",
          "name": "stdout",
          "text": [
            "Cateto a é igual a 3\n",
            "Cateto b é igual a 4\n",
            "A hipo é 5.0\n"
          ]
        }
      ]
    },
    {
      "cell_type": "code",
      "source": [
        "import math #from math import radians, sin, cos, tan\n",
        "angulo=float(input('Digite o ângulo: '))\n",
        "seno=math.sin(math.radians(angulo))\n",
        "print('O ângulo de {} tem o SENO de {:.2f}'.format(angulo,seno))\n",
        "cosseno=math.cos(math.radians(angulo))\n",
        "print('O ângulo de {} tem o cosseno de {:.2f}'.format(angulo,cosseno))\n",
        "tangente=math.tan(math.radians(angulo))\n",
        "print('O ângulo de {} tem a tangente de {:.2f}'.format(angulo,tangente))"
      ],
      "metadata": {
        "colab": {
          "base_uri": "https://localhost:8080/"
        },
        "id": "sQ9xshymrE_g",
        "outputId": "68f8790c-c479-4c3e-e328-0a6510f15f2b"
      },
      "execution_count": null,
      "outputs": [
        {
          "output_type": "stream",
          "name": "stdout",
          "text": [
            "Digite o ângulo: 30\n",
            "O ângulo de 30.0 tem o SENO de 0.50\n",
            "O ângulo de 30.0 tem o cosseno de 0.87\n",
            "O ângulo de 30.0 tem a tangente de 0.58\n"
          ]
        }
      ]
    },
    {
      "cell_type": "code",
      "source": [
        "import random\n",
        "n1=str(input('Primeiro aluno: '))\n",
        "n2=str(input('Segundo aluno: '))\n",
        "n3=str(input('Terceiro aluno: '))\n",
        "n4=str(input('Quarto aluno: '))\n",
        "lista = [n1,n2,n3,n4]\n",
        "escolhido = random.choice(lista)\n",
        "print('O aluno escolhido foi {}'.format(escolhido))"
      ],
      "metadata": {
        "colab": {
          "base_uri": "https://localhost:8080/"
        },
        "id": "vh1QSey9spqz",
        "outputId": "512996d2-f52c-4042-a1fe-97883ae2c301"
      },
      "execution_count": null,
      "outputs": [
        {
          "output_type": "stream",
          "name": "stdout",
          "text": [
            "Primeiro aluno: Joao\n",
            "Segundo aluno: fran\n",
            "Terceiro aluno: bi\n",
            "Quarto aluno: tri\n",
            "O aluno escolhido foi tri\n"
          ]
        }
      ]
    },
    {
      "cell_type": "code",
      "source": [
        "import random\n",
        "n1=str(input('Primeiro aluno: '))\n",
        "n2=str(input('Segundo aluno: '))\n",
        "n3=str(input('Terceiro aluno: '))\n",
        "n4=str(input('Quarto aluno: '))\n",
        "lista = [n1,n2,n3,n4]\n",
        "random.shuffle(lista)\n",
        "print('A ordem de apresentação será:')\n",
        "print(lista)"
      ],
      "metadata": {
        "colab": {
          "base_uri": "https://localhost:8080/"
        },
        "id": "U6VWYPbAuBeH",
        "outputId": "b7db1be9-17b1-4487-af61-19c5a1afd102"
      },
      "execution_count": null,
      "outputs": [
        {
          "output_type": "stream",
          "name": "stdout",
          "text": [
            "Primeiro aluno: a\n",
            "Segundo aluno: b\n",
            "Terceiro aluno: c.\n",
            "Quarto aluno: d\n",
            "A ordem de apresentação será:\n",
            "['d', 'a', 'c.', 'b']\n"
          ]
        }
      ]
    },
    {
      "cell_type": "markdown",
      "source": [
        "Análise \n",
        "frase.len - mostra quantas letras tem \n",
        "frase.count('o') - mostra quantos \"o\" tem na frase\n"
      ],
      "metadata": {
        "id": "i5oqcXu220J2"
      }
    },
    {
      "cell_type": "code",
      "source": [
        "frase=(\"Curso em Vídeo Python\")\n",
        "frase.lower\n",
        "print(frase)"
      ],
      "metadata": {
        "colab": {
          "base_uri": "https://localhost:8080/"
        },
        "id": "oBO17hU-3OwU",
        "outputId": "0ef7f6d8-b799-45f1-9b1f-e6b1be4119ca"
      },
      "execution_count": null,
      "outputs": [
        {
          "output_type": "stream",
          "name": "stdout",
          "text": [
            "Curso em Vídeo Python\n"
          ]
        }
      ]
    },
    {
      "cell_type": "code",
      "source": [
        "frase=\"Curso em Vídeo Python\"\n",
        "print(frase[::2])"
      ],
      "metadata": {
        "colab": {
          "base_uri": "https://localhost:8080/"
        },
        "id": "1pFFGuDhYXTv",
        "outputId": "128d2ed3-b323-491a-ef87-e204f1362a6e"
      },
      "execution_count": null,
      "outputs": [
        {
          "output_type": "stream",
          "name": "stdout",
          "text": [
            "Croe íe yhn\n"
          ]
        }
      ]
    },
    {
      "cell_type": "markdown",
      "source": [
        "Strings "
      ],
      "metadata": {
        "id": "EkF7geSDhwI6"
      }
    },
    {
      "cell_type": "code",
      "source": [
        "nome=str(input('Digite seu nome completo: ')).strip()\n",
        "print('Analisando seu nome...')\n",
        "print('Seu nome em maiúsculas é {}'.format(nome.upper()))\n",
        "print('Seu nome em minúsculas é {}'.format(nome.lower()))\n",
        "print('Seu nome tem {} letras'.format(len(nome)-nome.count(' ')))\n",
        "print('Seu primeiro nome tem {} letras'.format(nome.find(' ')))"
      ],
      "metadata": {
        "colab": {
          "base_uri": "https://localhost:8080/"
        },
        "id": "m5xAf6_UgquH",
        "outputId": "b0069a14-dc6b-4af2-b63a-72d64a8474ac"
      },
      "execution_count": null,
      "outputs": [
        {
          "output_type": "stream",
          "name": "stdout",
          "text": [
            "Digite seu nome completo:   Pedro Gozzi\n",
            "Analisando seu nome...\n",
            "Seu nome em maiúsculas é PEDRO GOZZI\n",
            "Seu nome em minúsculas é pedro gozzi\n",
            "Seu nome tem 10 letras\n",
            "Seu primeiro nome tem 5 letras\n"
          ]
        }
      ]
    },
    {
      "cell_type": "markdown",
      "source": [],
      "metadata": {
        "id": "22Gmpmjqgra5"
      }
    },
    {
      "cell_type": "code",
      "source": [
        "num=int(input('Informe um numero: '))\n",
        "n=str(num)\n",
        "print('Analisando o numero {}'.format(num))\n",
        "print('Unidade:{}'.format(n[3]))\n",
        "print('Dezena:{}'.format(n[2]))\n",
        "print('centena:{}'.format(n[1]))\n",
        "print('milhar: {}'.format(n[0]))"
      ],
      "metadata": {
        "colab": {
          "base_uri": "https://localhost:8080/"
        },
        "id": "H7F71iEHgpoj",
        "outputId": "57b5332b-d96f-47a1-ec59-b0a9bb986367"
      },
      "execution_count": 1,
      "outputs": [
        {
          "output_type": "stream",
          "name": "stdout",
          "text": [
            "Informe um numero: 1234\n",
            "Analisando o numero 1234\n",
            "Unidade:4\n",
            "Dezena:3\n",
            "centena:2\n",
            "milhar: 1\n"
          ]
        }
      ]
    },
    {
      "cell_type": "code",
      "source": [
        "cid=str(input('Em qual cidade você nasceu? ')).strip()\n",
        "print(cid[:5].upper() == 'SANTO')"
      ],
      "metadata": {
        "colab": {
          "base_uri": "https://localhost:8080/"
        },
        "id": "gzZd1V1yi5rj",
        "outputId": "b2943867-ee50-40cd-bfc5-a33c40de7caa"
      },
      "execution_count": 2,
      "outputs": [
        {
          "output_type": "stream",
          "name": "stdout",
          "text": [
            "Em qual cidade você nasceu? San\n",
            "False\n"
          ]
        }
      ]
    },
    {
      "cell_type": "code",
      "source": [
        "nome=str(input('Qual seu nome completo? ')).strip()\n",
        "print('Seu nome tem silva?{}'.format('silva' in nome.lower()))"
      ],
      "metadata": {
        "colab": {
          "base_uri": "https://localhost:8080/"
        },
        "id": "PE7TVR6ilHwu",
        "outputId": "04e2c71d-0aec-4db0-dd85-74d744b02588"
      },
      "execution_count": 3,
      "outputs": [
        {
          "output_type": "stream",
          "name": "stdout",
          "text": [
            "Qual seu nome completo? Joâo da Silva\n",
            "Seu nome tem silva?True\n"
          ]
        }
      ]
    },
    {
      "cell_type": "code",
      "source": [
        "frase = str(input('Digite uma frase: ')).upper()\n",
        "letra = str(input('Digite uma letra: ')).upper()\n",
        "print('A letra '+letra+' aparece {} vezes na frase '.format(frase.count(letra)))\n",
        "print('A primeira letra '+letra+' aparece na posição {}'.format(frase.find(letra)+1))\n",
        "print('A última letra '+letra+' aparece na posição {}'.format(frase.rfind(letra)+1))"
      ],
      "metadata": {
        "id": "lvc-8Jhhoku7"
      },
      "execution_count": null,
      "outputs": []
    },
    {
      "cell_type": "code",
      "source": [
        "n = str(input('Digite seu nome completo: ')).strip()\n",
        "nome = n.split()\n",
        "print('Muito prazer em te conhecer!')\n",
        "print('Seu primeiro nome é {}'.format(nome[0]))\n",
        "print('Seu primeiro nome é {}'.format(nome[len(nome)-1]))\n"
      ],
      "metadata": {
        "id": "ALhYB3q0qmAK"
      },
      "execution_count": null,
      "outputs": []
    }
  ]
}